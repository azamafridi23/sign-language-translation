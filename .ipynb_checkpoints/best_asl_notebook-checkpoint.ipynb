{
 "cells": [
  {
   "cell_type": "markdown",
   "metadata": {
    "_cell_guid": "07062a19-3f08-499f-a5a7-d6f34cdf125e",
    "_uuid": "faa859a5-6753-490d-986a-1589884d988f",
    "id": "iPz__nK1pHuA",
    "papermill": {
     "duration": 0.028584,
     "end_time": "2021-05-17T14:26:43.453505",
     "exception": false,
     "start_time": "2021-05-17T14:26:43.424921",
     "status": "completed"
    },
    "tags": []
   },
   "source": [
    "<h2><center>American Sign Language Detection</center></h2>"
   ]
  },
  {
   "cell_type": "markdown",
   "metadata": {
    "_cell_guid": "e0fffe98-758d-4319-bd66-6f207729a630",
    "_uuid": "c0d7c1be-58ba-4ff6-a111-25c9c31e0eda",
    "id": "87N2FxZNpHuT",
    "papermill": {
     "duration": 0.025788,
     "end_time": "2021-05-17T14:26:43.610887",
     "exception": false,
     "start_time": "2021-05-17T14:26:43.585099",
     "status": "completed"
    },
    "tags": []
   },
   "source": [
    "### 1. Importing packages <a id=1></a>"
   ]
  },
  {
   "cell_type": "code",
   "execution_count": 3,
   "metadata": {
    "_cell_guid": "1e37fef9-7f9f-4b06-a8de-3f367d649045",
    "_kg_hide-input": true,
    "_uuid": "d20235e4-152b-489d-a746-cc67a4003510",
    "colab": {
     "base_uri": "https://localhost:8080/"
    },
    "execution": {
     "iopub.execute_input": "2021-05-17T14:26:43.670781Z",
     "iopub.status.busy": "2021-05-17T14:26:43.670096Z",
     "iopub.status.idle": "2021-05-17T14:26:49.494885Z",
     "shell.execute_reply": "2021-05-17T14:26:49.495712Z"
    },
    "id": "_yAuY0LOpHuU",
    "jupyter": {
     "outputs_hidden": false
    },
    "outputId": "763a23db-17a1-47f0-a95f-503e2899f2a0",
    "papermill": {
     "duration": 5.858912,
     "end_time": "2021-05-17T14:26:49.495866",
     "exception": false,
     "start_time": "2021-05-17T14:26:43.636954",
     "status": "completed"
    },
    "tags": []
   },
   "outputs": [
    {
     "ename": "ImportError",
     "evalue": "cannot import name 'keras' from 'tensorflow' (unknown location)",
     "output_type": "error",
     "traceback": [
      "\u001b[1;31m---------------------------------------------------------------------------\u001b[0m",
      "\u001b[1;31mImportError\u001b[0m                               Traceback (most recent call last)",
      "\u001b[1;32m~\\AppData\\Local\\Temp/ipykernel_23412/294475930.py\u001b[0m in \u001b[0;36m<module>\u001b[1;34m\u001b[0m\n\u001b[0;32m     13\u001b[0m \u001b[1;31m# import tensorflow and keras\u001b[0m\u001b[1;33m\u001b[0m\u001b[1;33m\u001b[0m\u001b[1;33m\u001b[0m\u001b[0m\n\u001b[0;32m     14\u001b[0m \u001b[1;32mimport\u001b[0m \u001b[0mtensorflow\u001b[0m \u001b[1;32mas\u001b[0m \u001b[0mtf\u001b[0m\u001b[1;33m\u001b[0m\u001b[1;33m\u001b[0m\u001b[0m\n\u001b[1;32m---> 15\u001b[1;33m \u001b[1;32mfrom\u001b[0m \u001b[0mtensorflow\u001b[0m \u001b[1;32mimport\u001b[0m \u001b[0mkeras\u001b[0m\u001b[1;33m\u001b[0m\u001b[1;33m\u001b[0m\u001b[0m\n\u001b[0m\u001b[0;32m     16\u001b[0m \u001b[1;32mimport\u001b[0m \u001b[0mos\u001b[0m\u001b[1;33m\u001b[0m\u001b[1;33m\u001b[0m\u001b[0m\n\u001b[0;32m     17\u001b[0m \u001b[1;33m\u001b[0m\u001b[0m\n",
      "\u001b[1;31mImportError\u001b[0m: cannot import name 'keras' from 'tensorflow' (unknown location)"
     ]
    }
   ],
   "source": [
    "# import data processing and visualisation libraries\n",
    "import numpy as np\n",
    "import pandas as pd\n",
    "import seaborn as sns\n",
    "import matplotlib.pyplot as plt\n",
    "%matplotlib inline\n",
    "\n",
    "# import image processing libraries\n",
    "import cv2\n",
    "import skimage\n",
    "from skimage.transform import resize\n",
    "\n",
    "# import tensorflow and keras\n",
    "import tensorflow as tf\n",
    "from tensorflow import keras\n",
    "import os\n",
    "\n",
    "print(\"Packages imported...\")"
   ]
  },
  {
   "cell_type": "code",
   "execution_count": 2,
   "metadata": {
    "id": "VYcHBYg3pNOg"
   },
   "outputs": [
    {
     "name": "stdout",
     "output_type": "stream",
     "text": [
      "Requirement already satisfied: tensorflow in c:\\users\\azam\\appdata\\local\\programs\\python\\python39\\lib\\site-packages (2.12.0)"
     ]
    },
    {
     "name": "stderr",
     "output_type": "stream",
     "text": [
      "WARNING: Ignoring invalid distribution -treamlit (c:\\users\\azam\\appdata\\local\\programs\\python\\python39\\lib\\site-packages)\n",
      "WARNING: Ignoring invalid distribution -treamlit (c:\\users\\azam\\appdata\\local\\programs\\python\\python39\\lib\\site-packages)\n"
     ]
    },
    {
     "name": "stdout",
     "output_type": "stream",
     "text": [
      "\n",
      "Requirement already satisfied: tensorflow-intel==2.12.0 in c:\\users\\azam\\appdata\\local\\programs\\python\\python39\\lib\\site-packages (from tensorflow) (2.12.0)\n",
      "Requirement already satisfied: absl-py>=1.0.0 in c:\\users\\azam\\appdata\\local\\programs\\python\\python39\\lib\\site-packages (from tensorflow-intel==2.12.0->tensorflow) (1.2.0)\n",
      "Requirement already satisfied: astunparse>=1.6.0 in c:\\users\\azam\\appdata\\local\\programs\\python\\python39\\lib\\site-packages (from tensorflow-intel==2.12.0->tensorflow) (1.6.3)\n",
      "Requirement already satisfied: flatbuffers>=2.0 in c:\\users\\azam\\appdata\\local\\programs\\python\\python39\\lib\\site-packages (from tensorflow-intel==2.12.0->tensorflow) (23.5.26)\n",
      "Requirement already satisfied: gast<=0.4.0,>=0.2.1 in c:\\users\\azam\\appdata\\local\\programs\\python\\python39\\lib\\site-packages (from tensorflow-intel==2.12.0->tensorflow) (0.4.0)\n",
      "Requirement already satisfied: google-pasta>=0.1.1 in c:\\users\\azam\\appdata\\local\\programs\\python\\python39\\lib\\site-packages (from tensorflow-intel==2.12.0->tensorflow) (0.2.0)\n",
      "Requirement already satisfied: h5py>=2.9.0 in c:\\users\\azam\\appdata\\local\\programs\\python\\python39\\lib\\site-packages (from tensorflow-intel==2.12.0->tensorflow) (3.7.0)\n",
      "Requirement already satisfied: jax>=0.3.15 in c:\\users\\azam\\appdata\\local\\programs\\python\\python39\\lib\\site-packages (from tensorflow-intel==2.12.0->tensorflow) (0.4.12)\n",
      "Requirement already satisfied: libclang>=13.0.0 in c:\\users\\azam\\appdata\\local\\programs\\python\\python39\\lib\\site-packages (from tensorflow-intel==2.12.0->tensorflow) (14.0.6)\n",
      "Requirement already satisfied: numpy<1.24,>=1.22 in c:\\users\\azam\\appdata\\local\\programs\\python\\python39\\lib\\site-packages (from tensorflow-intel==2.12.0->tensorflow) (1.22.4)\n",
      "Requirement already satisfied: opt-einsum>=2.3.2 in c:\\users\\azam\\appdata\\local\\programs\\python\\python39\\lib\\site-packages (from tensorflow-intel==2.12.0->tensorflow) (3.3.0)\n",
      "Requirement already satisfied: packaging in c:\\users\\azam\\appdata\\local\\programs\\python\\python39\\lib\\site-packages (from tensorflow-intel==2.12.0->tensorflow) (22.0)\n",
      "Requirement already satisfied: protobuf!=4.21.0,!=4.21.1,!=4.21.2,!=4.21.3,!=4.21.4,!=4.21.5,<5.0.0dev,>=3.20.3 in c:\\users\\azam\\appdata\\local\\programs\\python\\python39\\lib\\site-packages (from tensorflow-intel==2.12.0->tensorflow) (3.20.3)\n",
      "Requirement already satisfied: setuptools in c:\\users\\azam\\appdata\\local\\programs\\python\\python39\\lib\\site-packages (from tensorflow-intel==2.12.0->tensorflow) (65.6.3)\n",
      "Requirement already satisfied: six>=1.12.0 in c:\\users\\azam\\appdata\\local\\programs\\python\\python39\\lib\\site-packages (from tensorflow-intel==2.12.0->tensorflow) (1.16.0)\n",
      "Requirement already satisfied: termcolor>=1.1.0 in c:\\users\\azam\\appdata\\local\\programs\\python\\python39\\lib\\site-packages (from tensorflow-intel==2.12.0->tensorflow) (1.1.0)\n",
      "Requirement already satisfied: typing-extensions>=3.6.6 in c:\\users\\azam\\appdata\\local\\programs\\python\\python39\\lib\\site-packages (from tensorflow-intel==2.12.0->tensorflow) (4.3.0)\n",
      "Requirement already satisfied: wrapt<1.15,>=1.11.0 in c:\\users\\azam\\appdata\\local\\programs\\python\\python39\\lib\\site-packages (from tensorflow-intel==2.12.0->tensorflow) (1.14.1)\n",
      "Requirement already satisfied: grpcio<2.0,>=1.24.3 in c:\\users\\azam\\appdata\\local\\programs\\python\\python39\\lib\\site-packages (from tensorflow-intel==2.12.0->tensorflow) (1.54.2)\n",
      "Requirement already satisfied: tensorboard<2.13,>=2.12 in c:\\users\\azam\\appdata\\local\\programs\\python\\python39\\lib\\site-packages (from tensorflow-intel==2.12.0->tensorflow) (2.12.3)\n",
      "Requirement already satisfied: tensorflow-estimator<2.13,>=2.12.0 in c:\\users\\azam\\appdata\\local\\programs\\python\\python39\\lib\\site-packages (from tensorflow-intel==2.12.0->tensorflow) (2.12.0)\n",
      "Requirement already satisfied: keras<2.13,>=2.12.0 in c:\\users\\azam\\appdata\\local\\programs\\python\\python39\\lib\\site-packages (from tensorflow-intel==2.12.0->tensorflow) (2.12.0)\n",
      "Requirement already satisfied: tensorflow-io-gcs-filesystem>=0.23.1 in c:\\users\\azam\\appdata\\local\\programs\\python\\python39\\lib\\site-packages (from tensorflow-intel==2.12.0->tensorflow) (0.26.0)\n",
      "Requirement already satisfied: wheel<1.0,>=0.23.0 in c:\\users\\azam\\appdata\\local\\programs\\python\\python39\\lib\\site-packages (from astunparse>=1.6.0->tensorflow-intel==2.12.0->tensorflow) (0.38.4)\n",
      "Requirement already satisfied: ml-dtypes>=0.1.0 in c:\\users\\azam\\appdata\\local\\programs\\python\\python39\\lib\\site-packages (from jax>=0.3.15->tensorflow-intel==2.12.0->tensorflow) (0.2.0)\n",
      "Requirement already satisfied: scipy>=1.7 in c:\\users\\azam\\appdata\\local\\programs\\python\\python39\\lib\\site-packages (from jax>=0.3.15->tensorflow-intel==2.12.0->tensorflow) (1.10.1)\n",
      "Requirement already satisfied: importlib-metadata>=4.6 in c:\\users\\azam\\appdata\\local\\programs\\python\\python39\\lib\\site-packages (from jax>=0.3.15->tensorflow-intel==2.12.0->tensorflow) (6.5.0)\n",
      "Requirement already satisfied: google-auth<3,>=1.6.3 in c:\\users\\azam\\appdata\\local\\programs\\python\\python39\\lib\\site-packages (from tensorboard<2.13,>=2.12->tensorflow-intel==2.12.0->tensorflow) (2.20.0)\n",
      "Requirement already satisfied: google-auth-oauthlib<1.1,>=0.5 in c:\\users\\azam\\appdata\\local\\programs\\python\\python39\\lib\\site-packages (from tensorboard<2.13,>=2.12->tensorflow-intel==2.12.0->tensorflow) (1.0.0)\n",
      "Requirement already satisfied: markdown>=2.6.8 in c:\\users\\azam\\appdata\\local\\programs\\python\\python39\\lib\\site-packages (from tensorboard<2.13,>=2.12->tensorflow-intel==2.12.0->tensorflow) (3.4.1)\n",
      "Requirement already satisfied: requests<3,>=2.21.0 in c:\\users\\azam\\appdata\\local\\programs\\python\\python39\\lib\\site-packages (from tensorboard<2.13,>=2.12->tensorflow-intel==2.12.0->tensorflow) (2.26.0)\n",
      "Requirement already satisfied: tensorboard-data-server<0.8.0,>=0.7.0 in c:\\users\\azam\\appdata\\local\\programs\\python\\python39\\lib\\site-packages (from tensorboard<2.13,>=2.12->tensorflow-intel==2.12.0->tensorflow) (0.7.1)\n",
      "Requirement already satisfied: werkzeug>=1.0.1 in c:\\users\\azam\\appdata\\local\\programs\\python\\python39\\lib\\site-packages (from tensorboard<2.13,>=2.12->tensorflow-intel==2.12.0->tensorflow) (2.2.2)\n",
      "Requirement already satisfied: cachetools<6.0,>=2.0.0 in c:\\users\\azam\\appdata\\local\\programs\\python\\python39\\lib\\site-packages (from google-auth<3,>=1.6.3->tensorboard<2.13,>=2.12->tensorflow-intel==2.12.0->tensorflow) (5.2.0)\n",
      "Requirement already satisfied: pyasn1-modules>=0.2.1 in c:\\users\\azam\\appdata\\local\\programs\\python\\python39\\lib\\site-packages (from google-auth<3,>=1.6.3->tensorboard<2.13,>=2.12->tensorflow-intel==2.12.0->tensorflow) (0.2.8)\n",
      "Requirement already satisfied: rsa<5,>=3.1.4 in c:\\users\\azam\\appdata\\local\\programs\\python\\python39\\lib\\site-packages (from google-auth<3,>=1.6.3->tensorboard<2.13,>=2.12->tensorflow-intel==2.12.0->tensorflow) (4.9)\n",
      "Requirement already satisfied: urllib3<2.0 in c:\\users\\azam\\appdata\\local\\programs\\python\\python39\\lib\\site-packages (from google-auth<3,>=1.6.3->tensorboard<2.13,>=2.12->tensorflow-intel==2.12.0->tensorflow) (1.26.6)\n",
      "Requirement already satisfied: requests-oauthlib>=0.7.0 in c:\\users\\azam\\appdata\\local\\programs\\python\\python39\\lib\\site-packages (from google-auth-oauthlib<1.1,>=0.5->tensorboard<2.13,>=2.12->tensorflow-intel==2.12.0->tensorflow) (1.3.1)\n",
      "Requirement already satisfied: zipp>=0.5 in c:\\users\\azam\\appdata\\local\\programs\\python\\python39\\lib\\site-packages (from importlib-metadata>=4.6->jax>=0.3.15->tensorflow-intel==2.12.0->tensorflow) (3.5.0)\n",
      "Requirement already satisfied: certifi>=2017.4.17 in c:\\users\\azam\\appdata\\local\\programs\\python\\python39\\lib\\site-packages (from requests<3,>=2.21.0->tensorboard<2.13,>=2.12->tensorflow-intel==2.12.0->tensorflow) (2022.12.7)\n",
      "Requirement already satisfied: charset-normalizer~=2.0.0 in c:\\users\\azam\\appdata\\local\\programs\\python\\python39\\lib\\site-packages (from requests<3,>=2.21.0->tensorboard<2.13,>=2.12->tensorflow-intel==2.12.0->tensorflow) (2.0.3)\n",
      "Requirement already satisfied: idna<4,>=2.5 in c:\\users\\azam\\appdata\\local\\programs\\python\\python39\\lib\\site-packages (from requests<3,>=2.21.0->tensorboard<2.13,>=2.12->tensorflow-intel==2.12.0->tensorflow) (3.2)\n",
      "Requirement already satisfied: MarkupSafe>=2.1.1 in c:\\users\\azam\\appdata\\local\\programs\\python\\python39\\lib\\site-packages (from werkzeug>=1.0.1->tensorboard<2.13,>=2.12->tensorflow-intel==2.12.0->tensorflow) (2.1.1)\n",
      "Requirement already satisfied: pyasn1<0.5.0,>=0.4.6 in c:\\users\\azam\\appdata\\local\\programs\\python\\python39\\lib\\site-packages (from pyasn1-modules>=0.2.1->google-auth<3,>=1.6.3->tensorboard<2.13,>=2.12->tensorflow-intel==2.12.0->tensorflow) (0.4.8)\n",
      "Requirement already satisfied: oauthlib>=3.0.0 in c:\\users\\azam\\appdata\\local\\programs\\python\\python39\\lib\\site-packages (from requests-oauthlib>=0.7.0->google-auth-oauthlib<1.1,>=0.5->tensorboard<2.13,>=2.12->tensorflow-intel==2.12.0->tensorflow) (3.2.0)\n"
     ]
    }
   ],
   "source": [
    "! pip install tensorflow --upgrade"
   ]
  },
  {
   "cell_type": "code",
   "execution_count": 2,
   "metadata": {
    "colab": {
     "base_uri": "https://localhost:8080/"
    },
    "id": "fZvqi7zqpOBz",
    "outputId": "c7016f69-9d36-4c2f-aec4-ebd08c07e68d"
   },
   "outputs": [
    {
     "name": "stdout",
     "output_type": "stream",
     "text": [
      "Mounted at /content/drive\n"
     ]
    }
   ],
   "source": [
    "from google.colab import drive\n",
    "drive.mount('/content/drive')"
   ]
  },
  {
   "cell_type": "code",
   "execution_count": 7,
   "metadata": {
    "colab": {
     "base_uri": "https://localhost:8080/"
    },
    "id": "0YjgDB8CpRUk",
    "outputId": "1b551ab2-4456-46fa-c5e1-3d7da47e9d5f"
   },
   "outputs": [
    {
     "name": "stdout",
     "output_type": "stream",
     "text": [
      "Folder extracted successfully.\n"
     ]
    }
   ],
   "source": [
    "import zipfile\n",
    "\n",
    "# Specify the path to the zip file\n",
    "zip_file_path = '/content/drive/MyDrive/asl_dataset/asl alphabets dataset.zip'  # Update with your zip file path\n",
    "\n",
    "# Specify the path to the destination folder\n",
    "destination_folder_path = '/content/destination_folder/'  # Update with your destination folder path\n",
    "\n",
    "# Extract the contents of the zip file\n",
    "with zipfile.ZipFile(zip_file_path, 'r') as zip_ref:\n",
    "    zip_ref.extractall(destination_folder_path)\n",
    "\n",
    "print('Folder extracted successfully.')"
   ]
  },
  {
   "cell_type": "code",
   "execution_count": 10,
   "metadata": {
    "colab": {
     "base_uri": "https://localhost:8080/"
    },
    "id": "AYP3TTpAr_0h",
    "outputId": "ac7e24f3-fcfe-4690-ed9c-4802ebaf4991"
   },
   "outputs": [
    {
     "name": "stdout",
     "output_type": "stream",
     "text": [
      "Number of files in the directory: 3000\n"
     ]
    }
   ],
   "source": [
    "import os\n",
    "\n",
    "# Specify the path to the directory\n",
    "directory_path = '/content/destination_folder/asl_alphabet_train/asl_alphabet_train/A'  # Update with the path to your directory\n",
    "\n",
    "# Get the list of files in the directory\n",
    "file_list = os.listdir(directory_path)\n",
    "\n",
    "# Get the length (number of files) in the directory\n",
    "length = len(file_list)\n",
    "\n",
    "print('Number of files in the directory:', length)\n"
   ]
  },
  {
   "cell_type": "code",
   "execution_count": null,
   "metadata": {
    "id": "0ac4_k6NsPLH"
   },
   "outputs": [],
   "source": []
  },
  {
   "cell_type": "code",
   "execution_count": 6,
   "metadata": {
    "colab": {
     "base_uri": "https://localhost:8080/"
    },
    "id": "amcZCad1qVlm",
    "outputId": "7527da46-dbd6-4918-9dc3-6cba41370883"
   },
   "outputs": [
    {
     "name": "stdout",
     "output_type": "stream",
     "text": [
      "Directory deleted successfully.\n"
     ]
    }
   ],
   "source": [
    "#delete folder\n",
    "\n",
    "import shutil\n",
    "\n",
    "# Specify the path to the directory you want to delete\n",
    "directory_path = '/content/destination_folder'  # Update with the path to your directory\n",
    "\n",
    "# Delete the directory\n",
    "shutil.rmtree(directory_path)\n",
    "\n",
    "print('Directory deleted successfully.')"
   ]
  },
  {
   "cell_type": "code",
   "execution_count": 14,
   "metadata": {
    "_cell_guid": "2265d143-13e7-43d9-b72d-18eb4b42ac2e",
    "_kg_hide-input": true,
    "_uuid": "0fab0f82-e179-4781-ad9d-973fed3ae070",
    "colab": {
     "base_uri": "https://localhost:8080/"
    },
    "execution": {
     "iopub.execute_input": "2021-05-17T14:26:49.624355Z",
     "iopub.status.busy": "2021-05-17T14:26:49.623783Z",
     "iopub.status.idle": "2021-05-17T14:42:29.301630Z",
     "shell.execute_reply": "2021-05-17T14:42:29.302458Z"
    },
    "id": "OZx_Iz4bpHuY",
    "jupyter": {
     "outputs_hidden": false
    },
    "outputId": "45577490-91c4-4a72-b283-00797d43bb5a",
    "papermill": {
     "duration": 939.726928,
     "end_time": "2021-05-17T14:42:29.302681",
     "exception": false,
     "start_time": "2021-05-17T14:26:49.575753",
     "status": "completed"
    },
    "tags": []
   },
   "outputs": [
    {
     "name": "stderr",
     "output_type": "stream",
     "text": [
      "<ipython-input-14-16f0b8a80d8a>:11: DeprecationWarning: `np.int` is a deprecated alias for the builtin `int`. To silence this warning, use `int` by itself. Doing this will not modify any behavior and is safe. When replacing `np.int`, you may wish to use e.g. `np.int64` or `np.int32` to specify the precision. If you wish to review your current use, check the release note link for additional information.\n",
      "Deprecated in NumPy 1.20; for more details and guidance: https://numpy.org/devdocs/release/1.20.0-notes.html#deprecations\n",
      "  y = np.empty((train_len,), dtype=np.int)\n"
     ]
    },
    {
     "name": "stdout",
     "output_type": "stream",
     "text": [
      "Images successfully imported...\n"
     ]
    }
   ],
   "source": [
    "batch_size = 64\n",
    "imageSize = 64\n",
    "target_dims = (imageSize, imageSize, 3)\n",
    "num_classes = 29\n",
    "\n",
    "train_len = 87000\n",
    "train_dir = '/content/destination_folder/asl_alphabet_train/asl_alphabet_train/'\n",
    "\n",
    "def get_data(folder):\n",
    "    X = np.empty((train_len, imageSize, imageSize, 3), dtype=np.float32)\n",
    "    y = np.empty((train_len,), dtype=np.int)\n",
    "    cnt = 0\n",
    "    for folderName in os.listdir(folder):\n",
    "        if not folderName.startswith('.'):\n",
    "            if folderName in ['A']:\n",
    "                label = 0\n",
    "            elif folderName in ['B']:\n",
    "                label = 1\n",
    "            elif folderName in ['C']:\n",
    "                label = 2\n",
    "            elif folderName in ['D']:\n",
    "                label = 3\n",
    "            elif folderName in ['E']:\n",
    "                label = 4\n",
    "            elif folderName in ['F']:\n",
    "                label = 5\n",
    "            elif folderName in ['G']:\n",
    "                label = 6\n",
    "            elif folderName in ['H']:\n",
    "                label = 7\n",
    "            elif folderName in ['I']:\n",
    "                label = 8\n",
    "            elif folderName in ['J']:\n",
    "                label = 9\n",
    "            elif folderName in ['K']:\n",
    "                label = 10\n",
    "            elif folderName in ['L']:\n",
    "                label = 11\n",
    "            elif folderName in ['M']:\n",
    "                label = 12\n",
    "            elif folderName in ['N']:\n",
    "                label = 13\n",
    "            elif folderName in ['O']:\n",
    "                label = 14\n",
    "            elif folderName in ['P']:\n",
    "                label = 15\n",
    "            elif folderName in ['Q']:\n",
    "                label = 16\n",
    "            elif folderName in ['R']:\n",
    "                label = 17\n",
    "            elif folderName in ['S']:\n",
    "                label = 18\n",
    "            elif folderName in ['T']:\n",
    "                label = 19\n",
    "            elif folderName in ['U']:\n",
    "                label = 20\n",
    "            elif folderName in ['V']:\n",
    "                label = 21\n",
    "            elif folderName in ['W']:\n",
    "                label = 22\n",
    "            elif folderName in ['X']:\n",
    "                label = 23\n",
    "            elif folderName in ['Y']:\n",
    "                label = 24\n",
    "            elif folderName in ['Z']:\n",
    "                label = 25\n",
    "            elif folderName in ['del']:\n",
    "                label = 26\n",
    "            elif folderName in ['nothing']:\n",
    "                label = 27\n",
    "            elif folderName in ['space']:\n",
    "                label = 28\n",
    "            else:\n",
    "                label = 29\n",
    "            for image_filename in os.listdir(folder + folderName):\n",
    "                img_file = cv2.imread(folder + folderName + '/' + image_filename)\n",
    "                if img_file is not None:\n",
    "                    img_file = skimage.transform.resize(img_file, (imageSize, imageSize, 3))\n",
    "                    img_arr = np.asarray(img_file).reshape((-1, imageSize, imageSize, 3))\n",
    "\n",
    "                    X[cnt] = img_arr\n",
    "                    y[cnt] = label\n",
    "                    cnt += 1\n",
    "    return X,y\n",
    "X_train, y_train = get_data(train_dir)\n",
    "print(\"Images successfully imported...\")"
   ]
  },
  {
   "cell_type": "markdown",
   "metadata": {
    "id": "pJRV1zn7pHuZ",
    "papermill": {
     "duration": 0.026785,
     "end_time": "2021-05-17T14:42:29.357583",
     "exception": false,
     "start_time": "2021-05-17T14:42:29.330798",
     "status": "completed"
    },
    "tags": []
   },
   "source": [
    "#### 2.1 Checking the shape of data <a id=3></a>"
   ]
  },
  {
   "cell_type": "code",
   "execution_count": 15,
   "metadata": {
    "_cell_guid": "067c2ef4-496b-4a67-bf5a-cc7a139ab7bd",
    "_kg_hide-input": true,
    "_uuid": "a5add51b-31da-4c0e-b1ff-573184900634",
    "colab": {
     "base_uri": "https://localhost:8080/"
    },
    "execution": {
     "iopub.execute_input": "2021-05-17T14:42:29.416133Z",
     "iopub.status.busy": "2021-05-17T14:42:29.415400Z",
     "iopub.status.idle": "2021-05-17T14:42:29.420341Z",
     "shell.execute_reply": "2021-05-17T14:42:29.419753Z"
    },
    "id": "K51mzHGGpHua",
    "jupyter": {
     "outputs_hidden": false
    },
    "outputId": "7f1f9aa8-f1dd-4123-96d1-a6bdfe154b5a",
    "papermill": {
     "duration": 0.035819,
     "end_time": "2021-05-17T14:42:29.420454",
     "exception": false,
     "start_time": "2021-05-17T14:42:29.384635",
     "status": "completed"
    },
    "tags": []
   },
   "outputs": [
    {
     "name": "stdout",
     "output_type": "stream",
     "text": [
      "The shape of X_train is :  (87000, 64, 64, 3)\n",
      "The shape of y_train is :  (87000,)\n"
     ]
    }
   ],
   "source": [
    "print(\"The shape of X_train is : \", X_train.shape)\n",
    "print(\"The shape of y_train is : \", y_train.shape)"
   ]
  },
  {
   "cell_type": "markdown",
   "metadata": {
    "id": "TZw1tMmApHue",
    "papermill": {
     "duration": 0.027499,
     "end_time": "2021-05-17T14:42:29.477619",
     "exception": false,
     "start_time": "2021-05-17T14:42:29.450120",
     "status": "completed"
    },
    "tags": []
   },
   "source": [
    "#### 2.2 Checking the shape of one image <a id=4></a>"
   ]
  },
  {
   "cell_type": "code",
   "execution_count": 16,
   "metadata": {
    "_cell_guid": "900696c7-8be7-4337-a43f-16ccd81340f9",
    "_kg_hide-input": true,
    "_uuid": "d26a695b-50e9-48ba-b70d-46bd2eb2a6f6",
    "colab": {
     "base_uri": "https://localhost:8080/"
    },
    "execution": {
     "iopub.execute_input": "2021-05-17T14:42:29.536889Z",
     "iopub.status.busy": "2021-05-17T14:42:29.536308Z",
     "iopub.status.idle": "2021-05-17T14:42:29.540648Z",
     "shell.execute_reply": "2021-05-17T14:42:29.541231Z"
    },
    "id": "GaRSxa01pHuf",
    "jupyter": {
     "outputs_hidden": false
    },
    "outputId": "d8d2ef55-131a-4171-e925-8e72311b1713",
    "papermill": {
     "duration": 0.036321,
     "end_time": "2021-05-17T14:42:29.541385",
     "exception": false,
     "start_time": "2021-05-17T14:42:29.505064",
     "status": "completed"
    },
    "tags": []
   },
   "outputs": [
    {
     "name": "stdout",
     "output_type": "stream",
     "text": [
      "The shape of one image is :  (64, 64, 3)\n"
     ]
    }
   ],
   "source": [
    "print(\"The shape of one image is : \", X_train[0].shape)"
   ]
  },
  {
   "cell_type": "markdown",
   "metadata": {
    "id": "cbZEh77zpHug",
    "papermill": {
     "duration": 0.027624,
     "end_time": "2021-05-17T14:42:29.597509",
     "exception": false,
     "start_time": "2021-05-17T14:42:29.569885",
     "status": "completed"
    },
    "tags": []
   },
   "source": [
    "#### 2.3 Viewing the image <a id=5></a>"
   ]
  },
  {
   "cell_type": "code",
   "execution_count": 17,
   "metadata": {
    "_cell_guid": "07904f67-f959-4785-a2a9-d26da5737f73",
    "_kg_hide-input": true,
    "_uuid": "47fc5cad-9dc5-4d85-81e4-063e6e0a084f",
    "colab": {
     "base_uri": "https://localhost:8080/",
     "height": 432
    },
    "execution": {
     "iopub.execute_input": "2021-05-17T14:42:29.664077Z",
     "iopub.status.busy": "2021-05-17T14:42:29.662538Z",
     "iopub.status.idle": "2021-05-17T14:42:29.800006Z",
     "shell.execute_reply": "2021-05-17T14:42:29.800430Z"
    },
    "id": "yB7cIO0JpHui",
    "jupyter": {
     "outputs_hidden": false
    },
    "outputId": "12ab5684-9603-4b87-ab5a-41d8f6f4bdd5",
    "papermill": {
     "duration": 0.174758,
     "end_time": "2021-05-17T14:42:29.800537",
     "exception": false,
     "start_time": "2021-05-17T14:42:29.625779",
     "status": "completed"
    },
    "tags": []
   },
   "outputs": [
    {
     "data": {
      "image/png": "[encoded data removed]",
      "text/plain": [
       "<Figure size 640x480 with 1 Axes>"
      ]
     },
     "metadata": {},
     "output_type": "display_data"
    }
   ],
   "source": [
    "plt.imshow(X_train[0])\n",
    "plt.show()"
   ]
  },
  {
   "cell_type": "markdown",
   "metadata": {
    "id": "3RcYj1Z6pHuj",
    "papermill": {
     "duration": 0.029695,
     "end_time": "2021-05-17T14:42:29.860551",
     "exception": false,
     "start_time": "2021-05-17T14:42:29.830856",
     "status": "completed"
    },
    "tags": []
   },
   "source": [
    "##### 2.3.1 Making copies of original data"
   ]
  },
  {
   "cell_type": "code",
   "execution_count": 18,
   "metadata": {
    "_cell_guid": "565a6756-d740-4ebe-ab3a-edd5d10d89cf",
    "_kg_hide-input": true,
    "_uuid": "1a129c25-b487-4d64-bb95-ce34367497d6",
    "colab": {
     "base_uri": "https://localhost:8080/"
    },
    "execution": {
     "iopub.execute_input": "2021-05-17T14:42:29.921491Z",
     "iopub.status.busy": "2021-05-17T14:42:29.920887Z",
     "iopub.status.idle": "2021-05-17T14:42:29.926740Z",
     "shell.execute_reply": "2021-05-17T14:42:29.926072Z"
    },
    "id": "uHo5UtWopHuj",
    "jupyter": {
     "outputs_hidden": false
    },
    "outputId": "da8f6eb8-80a7-4c69-fa11-7087192c8449",
    "papermill": {
     "duration": 0.037376,
     "end_time": "2021-05-17T14:42:29.926851",
     "exception": false,
     "start_time": "2021-05-17T14:42:29.889475",
     "status": "completed"
    },
    "tags": []
   },
   "outputs": [
    {
     "name": "stdout",
     "output_type": "stream",
     "text": [
      "Copies made...\n"
     ]
    }
   ],
   "source": [
    "X_data = X_train\n",
    "y_data = y_train\n",
    "print(\"Copies made...\")"
   ]
  },
  {
   "cell_type": "markdown",
   "metadata": {
    "_cell_guid": "37d05451-8836-41ff-865f-cdc9ea9567b0",
    "_uuid": "7b6c425c-49f0-4617-bda4-cf848cb75f14",
    "id": "QiXQSX-spHul",
    "papermill": {
     "duration": 0.029112,
     "end_time": "2021-05-17T14:42:29.985175",
     "exception": false,
     "start_time": "2021-05-17T14:42:29.956063",
     "status": "completed"
    },
    "tags": []
   },
   "source": [
    "### 3. Data processing <a id=6></a>"
   ]
  },
  {
   "cell_type": "markdown",
   "metadata": {
    "id": "Qz3sLIlypHul",
    "papermill": {
     "duration": 0.028856,
     "end_time": "2021-05-17T14:42:30.042938",
     "exception": false,
     "start_time": "2021-05-17T14:42:30.014082",
     "status": "completed"
    },
    "tags": []
   },
   "source": [
    "#### 3.1 Train/test split <a id=7></a>"
   ]
  },
  {
   "cell_type": "code",
   "execution_count": 19,
   "metadata": {
    "_cell_guid": "f834b860-92b6-49ca-8fc0-f3a3f20d7456",
    "_kg_hide-input": true,
    "_uuid": "100112bd-a136-4fb9-bb03-ef07020a294f",
    "execution": {
     "iopub.execute_input": "2021-05-17T14:42:30.106043Z",
     "iopub.status.busy": "2021-05-17T14:42:30.105380Z",
     "iopub.status.idle": "2021-05-17T14:42:31.764097Z",
     "shell.execute_reply": "2021-05-17T14:42:31.765225Z"
    },
    "id": "XxLqBcaFpHum",
    "jupyter": {
     "outputs_hidden": false
    },
    "papermill": {
     "duration": 1.693375,
     "end_time": "2021-05-17T14:42:31.765455",
     "exception": false,
     "start_time": "2021-05-17T14:42:30.072080",
     "status": "completed"
    },
    "tags": []
   },
   "outputs": [],
   "source": [
    "from sklearn.model_selection import train_test_split\n",
    "\n",
    "X_train, X_test, y_train, y_test = train_test_split(X_data, y_data, test_size=0.2,random_state=42,stratify=y_data)"
   ]
  },
  {
   "cell_type": "markdown",
   "metadata": {
    "id": "EkGoo3ilpHum",
    "papermill": {
     "duration": 0.047971,
     "end_time": "2021-05-17T14:42:31.862715",
     "exception": false,
     "start_time": "2021-05-17T14:42:31.814744",
     "status": "completed"
    },
    "tags": []
   },
   "source": [
    "#### 3.2 One-Hot-Encoding <a id=8></a>"
   ]
  },
  {
   "cell_type": "code",
   "execution_count": 20,
   "metadata": {
    "_cell_guid": "9257b00c-3b27-4e54-967d-903b7e52e65f",
    "_kg_hide-input": true,
    "_uuid": "df3ce29e-d4a1-41cc-a980-a1fdddbb83b8",
    "execution": {
     "iopub.execute_input": "2021-05-17T14:42:31.970996Z",
     "iopub.status.busy": "2021-05-17T14:42:31.970230Z",
     "iopub.status.idle": "2021-05-17T14:42:31.976858Z",
     "shell.execute_reply": "2021-05-17T14:42:31.977825Z"
    },
    "id": "VCH9nXsTpHuo",
    "jupyter": {
     "outputs_hidden": false
    },
    "papermill": {
     "duration": 0.065514,
     "end_time": "2021-05-17T14:42:31.977971",
     "exception": false,
     "start_time": "2021-05-17T14:42:31.912457",
     "status": "completed"
    },
    "tags": []
   },
   "outputs": [],
   "source": [
    "# One-Hot-Encoding the categorical data\n",
    "from tensorflow.keras.utils import to_categorical\n",
    "y_cat_train = to_categorical(y_train,29)\n",
    "y_cat_test = to_categorical(y_test,29)"
   ]
  },
  {
   "cell_type": "markdown",
   "metadata": {
    "id": "gwWN-97EpHus",
    "papermill": {
     "duration": 0.048826,
     "end_time": "2021-05-17T14:42:32.076476",
     "exception": false,
     "start_time": "2021-05-17T14:42:32.027650",
     "status": "completed"
    },
    "tags": []
   },
   "source": [
    "#### 3.3 Dimension Check of variables <a id=9></a>"
   ]
  },
  {
   "cell_type": "code",
   "execution_count": 21,
   "metadata": {
    "_cell_guid": "dae48de7-8e50-4c4e-a297-d8e3c09741da",
    "_kg_hide-input": true,
    "_uuid": "e9f8c8b8-df33-48f5-92a4-1e4d9a5393c4",
    "colab": {
     "base_uri": "https://localhost:8080/"
    },
    "execution": {
     "iopub.execute_input": "2021-05-17T14:42:32.183455Z",
     "iopub.status.busy": "2021-05-17T14:42:32.182606Z",
     "iopub.status.idle": "2021-05-17T14:42:32.187593Z",
     "shell.execute_reply": "2021-05-17T14:42:32.188223Z"
    },
    "id": "yVFAG8wNpHut",
    "jupyter": {
     "outputs_hidden": false
    },
    "outputId": "5fc14aaf-bb1d-471a-99eb-35bc18abfd92",
    "papermill": {
     "duration": 0.062272,
     "end_time": "2021-05-17T14:42:32.188378",
     "exception": false,
     "start_time": "2021-05-17T14:42:32.126106",
     "status": "completed"
    },
    "tags": []
   },
   "outputs": [
    {
     "name": "stdout",
     "output_type": "stream",
     "text": [
      "(69600, 64, 64, 3)\n",
      "(69600,)\n",
      "(17400, 64, 64, 3)\n",
      "(17400,)\n",
      "(69600, 29)\n",
      "(17400, 29)\n"
     ]
    }
   ],
   "source": [
    "# Checking the dimensions of all the variables\n",
    "print(X_train.shape)\n",
    "print(y_train.shape)\n",
    "print(X_test.shape)\n",
    "print(y_test.shape)\n",
    "print(y_cat_train.shape)\n",
    "print(y_cat_test.shape)"
   ]
  },
  {
   "cell_type": "markdown",
   "metadata": {
    "_cell_guid": "5ea40005-f9c4-45d8-b5fc-62efbbc7552f",
    "_uuid": "e2310305-968c-4304-98c0-0fa6f948f7ed",
    "id": "oNTPEcV5pHuu",
    "papermill": {
     "duration": 0.041858,
     "end_time": "2021-05-17T14:42:32.280159",
     "exception": false,
     "start_time": "2021-05-17T14:42:32.238301",
     "status": "completed"
    },
    "tags": []
   },
   "source": [
    "### 4. Garbage Collection <a id=10></a>"
   ]
  },
  {
   "cell_type": "code",
   "execution_count": 22,
   "metadata": {
    "_cell_guid": "60b60e7c-5ad2-4200-b77b-d780c19a63c8",
    "_kg_hide-input": true,
    "_uuid": "0d1a9c60-97e0-4d93-96a2-8414ebe5a77b",
    "colab": {
     "base_uri": "https://localhost:8080/"
    },
    "execution": {
     "iopub.execute_input": "2021-05-17T14:42:32.478541Z",
     "iopub.status.busy": "2021-05-17T14:42:32.477218Z",
     "iopub.status.idle": "2021-05-17T14:42:32.480712Z",
     "shell.execute_reply": "2021-05-17T14:42:32.481110Z"
    },
    "id": "_MLe-huPpHuu",
    "jupyter": {
     "outputs_hidden": false
    },
    "outputId": "7fc11267-92c4-4880-b0e8-3df7bdea3c92",
    "papermill": {
     "duration": 0.170985,
     "end_time": "2021-05-17T14:42:32.481226",
     "exception": false,
     "start_time": "2021-05-17T14:42:32.310241",
     "status": "completed"
    },
    "tags": []
   },
   "outputs": [
    {
     "data": {
      "text/plain": [
       "3507"
      ]
     },
     "execution_count": 22,
     "metadata": {},
     "output_type": "execute_result"
    }
   ],
   "source": [
    "# This is done to save CPU and RAM space while working on Kaggle Kernels. This will delete the specified data and save some space!\n",
    "import gc\n",
    "del X_data\n",
    "del y_data\n",
    "gc.collect()"
   ]
  },
  {
   "cell_type": "markdown",
   "metadata": {
    "_cell_guid": "d6ccd7c2-0204-438f-adf9-5a43f02a9978",
    "_uuid": "260a1235-958e-4446-a8c1-49ba2e8edda3",
    "id": "07IP0s9JpHuw",
    "papermill": {
     "duration": 0.030088,
     "end_time": "2021-05-17T14:42:32.542012",
     "exception": false,
     "start_time": "2021-05-17T14:42:32.511924",
     "status": "completed"
    },
    "tags": []
   },
   "source": [
    "### 5. Modeling <a id=11></a>"
   ]
  },
  {
   "cell_type": "markdown",
   "metadata": {
    "id": "DTrP_XVNpHux",
    "papermill": {
     "duration": 0.029726,
     "end_time": "2021-05-17T14:42:32.602003",
     "exception": false,
     "start_time": "2021-05-17T14:42:32.572277",
     "status": "completed"
    },
    "tags": []
   },
   "source": [
    "#### 5.1 Importing packages <a id=12></a>"
   ]
  },
  {
   "cell_type": "code",
   "execution_count": 23,
   "metadata": {
    "_cell_guid": "600cfa51-bec1-496f-ac4d-fe9cb700c03d",
    "_kg_hide-input": true,
    "_uuid": "6900c3dd-09dc-4f84-bbc4-2515d2d6c193",
    "colab": {
     "base_uri": "https://localhost:8080/"
    },
    "execution": {
     "iopub.execute_input": "2021-05-17T14:42:32.666814Z",
     "iopub.status.busy": "2021-05-17T14:42:32.666114Z",
     "iopub.status.idle": "2021-05-17T14:42:32.718504Z",
     "shell.execute_reply": "2021-05-17T14:42:32.719163Z"
    },
    "id": "JojRYIlqpHuy",
    "jupyter": {
     "outputs_hidden": false
    },
    "outputId": "47c5c662-59ae-4082-8b7f-6af7f8b23d13",
    "papermill": {
     "duration": 0.087019,
     "end_time": "2021-05-17T14:42:32.719318",
     "exception": false,
     "start_time": "2021-05-17T14:42:32.632299",
     "status": "completed"
    },
    "tags": []
   },
   "outputs": [
    {
     "name": "stdout",
     "output_type": "stream",
     "text": [
      "Packages imported...\n"
     ]
    }
   ],
   "source": [
    "from keras.models import Sequential\n",
    "from keras.layers import Conv2D, MaxPooling2D, Activation, Dense, Flatten\n",
    "print(\"Packages imported...\")"
   ]
  },
  {
   "cell_type": "markdown",
   "metadata": {
    "id": "vKf01U1GpHuz",
    "papermill": {
     "duration": 0.030565,
     "end_time": "2021-05-17T14:42:32.781380",
     "exception": false,
     "start_time": "2021-05-17T14:42:32.750815",
     "status": "completed"
    },
    "tags": []
   },
   "source": [
    "#### 5.2 Building model <a id=13></a>"
   ]
  },
  {
   "cell_type": "code",
   "execution_count": 24,
   "metadata": {
    "_cell_guid": "17f3751b-4927-483b-9d60-effe1ee70cf1",
    "_kg_hide-input": true,
    "_uuid": "43bd378a-609f-4de1-a1ad-b1d169351098",
    "colab": {
     "base_uri": "https://localhost:8080/"
    },
    "execution": {
     "iopub.execute_input": "2021-05-17T14:42:32.851866Z",
     "iopub.status.busy": "2021-05-17T14:42:32.851234Z",
     "iopub.status.idle": "2021-05-17T14:42:35.351824Z",
     "shell.execute_reply": "2021-05-17T14:42:35.351196Z"
    },
    "id": "KM6hImsgpHuz",
    "jupyter": {
     "outputs_hidden": false
    },
    "outputId": "1cede907-5ebd-4190-b27b-f891f8a550ae",
    "papermill": {
     "duration": 2.539624,
     "end_time": "2021-05-17T14:42:35.351932",
     "exception": false,
     "start_time": "2021-05-17T14:42:32.812308",
     "status": "completed"
    },
    "tags": []
   },
   "outputs": [
    {
     "name": "stdout",
     "output_type": "stream",
     "text": [
      "Model: \"sequential\"\n",
      "_________________________________________________________________\n",
      " Layer (type)                Output Shape              Param #   \n",
      "=================================================================\n",
      " conv2d (Conv2D)             (None, 60, 60, 32)        2432      \n",
      "                                                                 \n",
      " activation (Activation)     (None, 60, 60, 32)        0         \n",
      "                                                                 \n",
      " max_pooling2d (MaxPooling2D  (None, 30, 30, 32)       0         \n",
      " )                                                               \n",
      "                                                                 \n",
      " conv2d_1 (Conv2D)           (None, 28, 28, 64)        18496     \n",
      "                                                                 \n",
      " activation_1 (Activation)   (None, 28, 28, 64)        0         \n",
      "                                                                 \n",
      " max_pooling2d_1 (MaxPooling  (None, 14, 14, 64)       0         \n",
      " 2D)                                                             \n",
      "                                                                 \n",
      " conv2d_2 (Conv2D)           (None, 12, 12, 64)        36928     \n",
      "                                                                 \n",
      " activation_2 (Activation)   (None, 12, 12, 64)        0         \n",
      "                                                                 \n",
      " max_pooling2d_2 (MaxPooling  (None, 6, 6, 64)         0         \n",
      " 2D)                                                             \n",
      "                                                                 \n",
      " flatten (Flatten)           (None, 2304)              0         \n",
      "                                                                 \n",
      " dense (Dense)               (None, 128)               295040    \n",
      "                                                                 \n",
      " dense_1 (Dense)             (None, 29)                3741      \n",
      "                                                                 \n",
      "=================================================================\n",
      "Total params: 356,637\n",
      "Trainable params: 356,637\n",
      "Non-trainable params: 0\n",
      "_________________________________________________________________\n"
     ]
    }
   ],
   "source": [
    "model = Sequential()\n",
    "\n",
    "model.add(Conv2D(32, (5, 5), input_shape=(64, 64, 3)))\n",
    "model.add(Activation('relu'))\n",
    "model.add(MaxPooling2D((2, 2)))\n",
    "\n",
    "model.add(Conv2D(64, (3, 3)))\n",
    "model.add(Activation('relu'))\n",
    "model.add(MaxPooling2D((2, 2)))\n",
    "\n",
    "model.add(Conv2D(64, (3, 3)))\n",
    "model.add(Activation('relu'))\n",
    "model.add(MaxPooling2D((2, 2)))\n",
    "\n",
    "model.add(Flatten())\n",
    "\n",
    "model.add(Dense(128, activation='relu'))\n",
    "\n",
    "model.add(Dense(29, activation='softmax'))\n",
    "\n",
    "model.summary()"
   ]
  },
  {
   "cell_type": "markdown",
   "metadata": {
    "id": "H0f7br6QpHu1",
    "papermill": {
     "duration": 0.03133,
     "end_time": "2021-05-17T14:42:35.415175",
     "exception": false,
     "start_time": "2021-05-17T14:42:35.383845",
     "status": "completed"
    },
    "tags": []
   },
   "source": [
    "#### 5.3 Early Stopping and Compiling <a id=14></a>"
   ]
  },
  {
   "cell_type": "markdown",
   "metadata": {
    "id": "R0ERwCjjpHu2",
    "papermill": {
     "duration": 0.031079,
     "end_time": "2021-05-17T14:42:35.478044",
     "exception": false,
     "start_time": "2021-05-17T14:42:35.446965",
     "status": "completed"
    },
    "tags": []
   },
   "source": [
    "##### 5.3.1 Early Stopping"
   ]
  },
  {
   "cell_type": "markdown",
   "metadata": {
    "id": "V6bdvAs9pHu2",
    "papermill": {
     "duration": 0.030901,
     "end_time": "2021-05-17T14:42:35.540806",
     "exception": false,
     "start_time": "2021-05-17T14:42:35.509905",
     "status": "completed"
    },
    "tags": []
   },
   "source": [
    "Early Stopping is done to make sure the model fitting stops at the most optimized accuracy point. After the early stopping point, the model might start overfitting. For testing purposes, this step can be skipped and complete training can be done."
   ]
  },
  {
   "cell_type": "code",
   "execution_count": 25,
   "metadata": {
    "_cell_guid": "166bc66e-a184-4685-8bab-07a4fd82b5c5",
    "_kg_hide-input": true,
    "_uuid": "e48b5f93-6c7b-4cfa-af41-0ef7f449b51e",
    "execution": {
     "iopub.execute_input": "2021-05-17T14:42:35.607822Z",
     "iopub.status.busy": "2021-05-17T14:42:35.607306Z",
     "iopub.status.idle": "2021-05-17T14:42:35.611229Z",
     "shell.execute_reply": "2021-05-17T14:42:35.610824Z"
    },
    "id": "WJRiQ8-6pHu3",
    "jupyter": {
     "outputs_hidden": false
    },
    "papermill": {
     "duration": 0.038904,
     "end_time": "2021-05-17T14:42:35.611329",
     "exception": false,
     "start_time": "2021-05-17T14:42:35.572425",
     "status": "completed"
    },
    "tags": []
   },
   "outputs": [],
   "source": [
    "from tensorflow.keras.callbacks import EarlyStopping\n",
    "early_stop = EarlyStopping(monitor='val_loss',patience=2)"
   ]
  },
  {
   "cell_type": "markdown",
   "metadata": {
    "id": "h8zPVWphpHu4",
    "papermill": {
     "duration": 0.030669,
     "end_time": "2021-05-17T14:42:35.673538",
     "exception": false,
     "start_time": "2021-05-17T14:42:35.642869",
     "status": "completed"
    },
    "tags": []
   },
   "source": [
    "##### 5.3.2 Compiling"
   ]
  },
  {
   "cell_type": "code",
   "execution_count": 26,
   "metadata": {
    "_cell_guid": "207189e1-ee1b-466d-b032-c0e24c10d942",
    "_kg_hide-input": true,
    "_uuid": "45f4dafb-d26a-4c14-896a-cde3dff1212a",
    "execution": {
     "iopub.execute_input": "2021-05-17T14:42:35.747607Z",
     "iopub.status.busy": "2021-05-17T14:42:35.746804Z",
     "iopub.status.idle": "2021-05-17T14:42:35.753273Z",
     "shell.execute_reply": "2021-05-17T14:42:35.752863Z"
    },
    "id": "yjvqR3JqpHu4",
    "jupyter": {
     "outputs_hidden": false
    },
    "papermill": {
     "duration": 0.047386,
     "end_time": "2021-05-17T14:42:35.753365",
     "exception": false,
     "start_time": "2021-05-17T14:42:35.705979",
     "status": "completed"
    },
    "tags": []
   },
   "outputs": [],
   "source": [
    "model.compile(optimizer='adam',\n",
    "              loss='categorical_crossentropy',\n",
    "              metrics=['accuracy'])"
   ]
  },
  {
   "cell_type": "markdown",
   "metadata": {
    "_cell_guid": "e8138e59-3c44-4575-ab15-c2f9a605e8ae",
    "_uuid": "9cad5ad2-3087-4237-8354-32633dab6b1d",
    "id": "xTSFnCAupHu9",
    "papermill": {
     "duration": 0.034192,
     "end_time": "2021-05-17T14:42:35.818736",
     "exception": false,
     "start_time": "2021-05-17T14:42:35.784544",
     "status": "completed"
    },
    "tags": []
   },
   "source": [
    "#### 5.4 Model fitting <a id=15></a>"
   ]
  },
  {
   "cell_type": "code",
   "execution_count": 27,
   "metadata": {
    "_cell_guid": "821c522f-11c6-45e9-aae9-b0f85167f8be",
    "_kg_hide-input": true,
    "_uuid": "1a1d6a1a-a207-41af-920b-044f27265cfa",
    "colab": {
     "base_uri": "https://localhost:8080/"
    },
    "execution": {
     "iopub.execute_input": "2021-05-17T14:42:35.892150Z",
     "iopub.status.busy": "2021-05-17T14:42:35.891647Z",
     "iopub.status.idle": "2021-05-17T14:43:47.852147Z",
     "shell.execute_reply": "2021-05-17T14:43:47.851686Z"
    },
    "id": "AOXBPdEYpHu-",
    "jupyter": {
     "outputs_hidden": false
    },
    "outputId": "0bd3bfdf-2806-4230-9a52-7454ef3aecea",
    "papermill": {
     "duration": 71.996412,
     "end_time": "2021-05-17T14:43:47.852252",
     "exception": false,
     "start_time": "2021-05-17T14:42:35.855840",
     "status": "completed"
    },
    "tags": []
   },
   "outputs": [
    {
     "name": "stdout",
     "output_type": "stream",
     "text": [
      "Epoch 1/50\n",
      "1088/1088 - 544s - loss: 0.9114 - accuracy: 0.7257 - val_loss: 0.1937 - val_accuracy: 0.9355 - 544s/epoch - 500ms/step\n",
      "Epoch 2/50\n",
      "1088/1088 - 562s - loss: 0.1162 - accuracy: 0.9631 - val_loss: 0.0853 - val_accuracy: 0.9733 - 562s/epoch - 517ms/step\n",
      "Epoch 3/50\n",
      "1088/1088 - 556s - loss: 0.0525 - accuracy: 0.9838 - val_loss: 0.0791 - val_accuracy: 0.9749 - 556s/epoch - 511ms/step\n",
      "Epoch 4/50\n",
      "1088/1088 - 570s - loss: 0.0464 - accuracy: 0.9856 - val_loss: 0.0315 - val_accuracy: 0.9914 - 570s/epoch - 524ms/step\n",
      "Epoch 5/50\n",
      "1088/1088 - 564s - loss: 0.0323 - accuracy: 0.9901 - val_loss: 0.0254 - val_accuracy: 0.9917 - 564s/epoch - 519ms/step\n",
      "Epoch 6/50\n",
      "1088/1088 - 556s - loss: 0.0339 - accuracy: 0.9898 - val_loss: 0.0293 - val_accuracy: 0.9900 - 556s/epoch - 511ms/step\n",
      "Epoch 7/50\n",
      "1088/1088 - 546s - loss: 0.0147 - accuracy: 0.9954 - val_loss: 0.0319 - val_accuracy: 0.9902 - 546s/epoch - 502ms/step\n"
     ]
    },
    {
     "data": {
      "text/plain": [
       "<keras.callbacks.History at 0x7f96b0efcbb0>"
      ]
     },
     "execution_count": 27,
     "metadata": {},
     "output_type": "execute_result"
    }
   ],
   "source": [
    "model.fit(X_train, y_cat_train,\n",
    "          epochs=50,\n",
    "          batch_size=64,\n",
    "          verbose=2,\n",
    "          validation_data=(X_test, y_cat_test),\n",
    "         callbacks=[early_stop])"
   ]
  },
  {
   "cell_type": "markdown",
   "metadata": {
    "_cell_guid": "2c72fb78-8a46-4faf-ab4b-339b65c8b9dd",
    "_uuid": "8ebe106b-4eeb-44ca-9afb-9c91d02962b2",
    "id": "5DWqfnnbpHu_",
    "papermill": {
     "duration": 0.036531,
     "end_time": "2021-05-17T14:43:47.925180",
     "exception": false,
     "start_time": "2021-05-17T14:43:47.888649",
     "status": "completed"
    },
    "tags": []
   },
   "source": [
    "#### 5.5 Model metrics <a id=16></a>"
   ]
  },
  {
   "cell_type": "markdown",
   "metadata": {
    "id": "Gyap68l8pHvA",
    "papermill": {
     "duration": 0.036486,
     "end_time": "2021-05-17T14:43:47.997968",
     "exception": false,
     "start_time": "2021-05-17T14:43:47.961482",
     "status": "completed"
    },
    "tags": []
   },
   "source": [
    "##### 5.5.1 Metrics from model history"
   ]
  },
  {
   "cell_type": "code",
   "execution_count": 28,
   "metadata": {
    "_cell_guid": "74862d05-feff-4e9c-b634-77b5a2daa8c6",
    "_kg_hide-input": true,
    "_uuid": "e1e23093-cca8-4e14-875f-2a7e2fd88f2c",
    "colab": {
     "base_uri": "https://localhost:8080/",
     "height": 287
    },
    "execution": {
     "iopub.execute_input": "2021-05-17T14:43:48.084072Z",
     "iopub.status.busy": "2021-05-17T14:43:48.083222Z",
     "iopub.status.idle": "2021-05-17T14:43:48.146038Z",
     "shell.execute_reply": "2021-05-17T14:43:48.145598Z"
    },
    "id": "uZ8-Yv_HpHvB",
    "jupyter": {
     "outputs_hidden": false
    },
    "outputId": "50604e00-53ee-4e67-9206-c34ace15f9b4",
    "papermill": {
     "duration": 0.111648,
     "end_time": "2021-05-17T14:43:48.146124",
     "exception": false,
     "start_time": "2021-05-17T14:43:48.034476",
     "status": "completed"
    },
    "tags": []
   },
   "outputs": [
    {
     "name": "stdout",
     "output_type": "stream",
     "text": [
      "The model metrics are\n"
     ]
    },
    {
     "data": {
      "text/html": [
       "\n",
       "  <div id=\"df-caac3d4f-4831-44d2-baa2-0206cf1957bd\">\n",
       "    <div class=\"colab-df-container\">\n",
       "      <div>\n",
       "<style scoped>\n",
       "    .dataframe tbody tr th:only-of-type {\n",
       "        vertical-align: middle;\n",
       "    }\n",
       "\n",
       "    .dataframe tbody tr th {\n",
       "        vertical-align: top;\n",
       "    }\n",
       "\n",
       "    .dataframe thead th {\n",
       "        text-align: right;\n",
       "    }\n",
       "</style>\n",
       "<table border=\"1\" class=\"dataframe\">\n",
       "  <thead>\n",
       "    <tr style=\"text-align: right;\">\n",
       "      <th></th>\n",
       "      <th>loss</th>\n",
       "      <th>accuracy</th>\n",
       "      <th>val_loss</th>\n",
       "      <th>val_accuracy</th>\n",
       "    </tr>\n",
       "  </thead>\n",
       "  <tbody>\n",
       "    <tr>\n",
       "      <th>0</th>\n",
       "      <td>0.911383</td>\n",
       "      <td>0.725704</td>\n",
       "      <td>0.193711</td>\n",
       "      <td>0.935517</td>\n",
       "    </tr>\n",
       "    <tr>\n",
       "      <th>1</th>\n",
       "      <td>0.116163</td>\n",
       "      <td>0.963103</td>\n",
       "      <td>0.085277</td>\n",
       "      <td>0.973333</td>\n",
       "    </tr>\n",
       "    <tr>\n",
       "      <th>2</th>\n",
       "      <td>0.052511</td>\n",
       "      <td>0.983793</td>\n",
       "      <td>0.079051</td>\n",
       "      <td>0.974885</td>\n",
       "    </tr>\n",
       "    <tr>\n",
       "      <th>3</th>\n",
       "      <td>0.046385</td>\n",
       "      <td>0.985632</td>\n",
       "      <td>0.031529</td>\n",
       "      <td>0.991437</td>\n",
       "    </tr>\n",
       "    <tr>\n",
       "      <th>4</th>\n",
       "      <td>0.032332</td>\n",
       "      <td>0.990129</td>\n",
       "      <td>0.025417</td>\n",
       "      <td>0.991667</td>\n",
       "    </tr>\n",
       "    <tr>\n",
       "      <th>5</th>\n",
       "      <td>0.033850</td>\n",
       "      <td>0.989842</td>\n",
       "      <td>0.029282</td>\n",
       "      <td>0.990000</td>\n",
       "    </tr>\n",
       "    <tr>\n",
       "      <th>6</th>\n",
       "      <td>0.014748</td>\n",
       "      <td>0.995402</td>\n",
       "      <td>0.031879</td>\n",
       "      <td>0.990230</td>\n",
       "    </tr>\n",
       "  </tbody>\n",
       "</table>\n",
       "</div>\n",
       "      <button class=\"colab-df-convert\" onclick=\"convertToInteractive('df-caac3d4f-4831-44d2-baa2-0206cf1957bd')\"\n",
       "              title=\"Convert this dataframe to an interactive table.\"\n",
       "              style=\"display:none;\">\n",
       "        \n",
       "  <svg xmlns=\"http://www.w3.org/2000/svg\" height=\"24px\"viewBox=\"0 0 24 24\"\n",
       "       width=\"24px\">\n",
       "    <path d=\"M0 0h24v24H0V0z\" fill=\"none\"/>\n",
       "    <path d=\"M18.56 5.44l.94 2.06.94-2.06 2.06-.94-2.06-.94-.94-2.06-.94 2.06-2.06.94zm-11 1L8.5 8.5l.94-2.06 2.06-.94-2.06-.94L8.5 2.5l-.94 2.06-2.06.94zm10 10l.94 2.06.94-2.06 2.06-.94-2.06-.94-.94-2.06-.94 2.06-2.06.94z\"/><path d=\"M17.41 7.96l-1.37-1.37c-.4-.4-.92-.59-1.43-.59-.52 0-1.04.2-1.43.59L10.3 9.45l-7.72 7.72c-.78.78-.78 2.05 0 2.83L4 21.41c.39.39.9.59 1.41.59.51 0 1.02-.2 1.41-.59l7.78-7.78 2.81-2.81c.8-.78.8-2.07 0-2.86zM5.41 20L4 18.59l7.72-7.72 1.47 1.35L5.41 20z\"/>\n",
       "  </svg>\n",
       "      </button>\n",
       "      \n",
       "  <style>\n",
       "    .colab-df-container {\n",
       "      display:flex;\n",
       "      flex-wrap:wrap;\n",
       "      gap: 12px;\n",
       "    }\n",
       "\n",
       "    .colab-df-convert {\n",
       "      background-color: #E8F0FE;\n",
       "      border: none;\n",
       "      border-radius: 50%;\n",
       "      cursor: pointer;\n",
       "      display: none;\n",
       "      fill: #1967D2;\n",
       "      height: 32px;\n",
       "      padding: 0 0 0 0;\n",
       "      width: 32px;\n",
       "    }\n",
       "\n",
       "    .colab-df-convert:hover {\n",
       "      background-color: #E2EBFA;\n",
       "      box-shadow: 0px 1px 2px rgba(60, 64, 67, 0.3), 0px 1px 3px 1px rgba(60, 64, 67, 0.15);\n",
       "      fill: #174EA6;\n",
       "    }\n",
       "\n",
       "    [theme=dark] .colab-df-convert {\n",
       "      background-color: #3B4455;\n",
       "      fill: #D2E3FC;\n",
       "    }\n",
       "\n",
       "    [theme=dark] .colab-df-convert:hover {\n",
       "      background-color: #434B5C;\n",
       "      box-shadow: 0px 1px 3px 1px rgba(0, 0, 0, 0.15);\n",
       "      filter: drop-shadow(0px 1px 2px rgba(0, 0, 0, 0.3));\n",
       "      fill: #FFFFFF;\n",
       "    }\n",
       "  </style>\n",
       "\n",
       "      <script>\n",
       "        const buttonEl =\n",
       "          document.querySelector('#df-caac3d4f-4831-44d2-baa2-0206cf1957bd button.colab-df-convert');\n",
       "        buttonEl.style.display =\n",
       "          google.colab.kernel.accessAllowed ? 'block' : 'none';\n",
       "\n",
       "        async function convertToInteractive(key) {\n",
       "          const element = document.querySelector('#df-caac3d4f-4831-44d2-baa2-0206cf1957bd');\n",
       "          const dataTable =\n",
       "            await google.colab.kernel.invokeFunction('convertToInteractive',\n",
       "                                                     [key], {});\n",
       "          if (!dataTable) return;\n",
       "\n",
       "          const docLinkHtml = 'Like what you see? Visit the ' +\n",
       "            '<a target=\"_blank\" href=https://colab.research.google.com/notebooks/data_table.ipynb>data table notebook</a>'\n",
       "            + ' to learn more about interactive tables.';\n",
       "          element.innerHTML = '';\n",
       "          dataTable['output_type'] = 'display_data';\n",
       "          await google.colab.output.renderOutput(dataTable, element);\n",
       "          const docLink = document.createElement('div');\n",
       "          docLink.innerHTML = docLinkHtml;\n",
       "          element.appendChild(docLink);\n",
       "        }\n",
       "      </script>\n",
       "    </div>\n",
       "  </div>\n",
       "  "
      ],
      "text/plain": [
       "       loss  accuracy  val_loss  val_accuracy\n",
       "0  0.911383  0.725704  0.193711      0.935517\n",
       "1  0.116163  0.963103  0.085277      0.973333\n",
       "2  0.052511  0.983793  0.079051      0.974885\n",
       "3  0.046385  0.985632  0.031529      0.991437\n",
       "4  0.032332  0.990129  0.025417      0.991667\n",
       "5  0.033850  0.989842  0.029282      0.990000\n",
       "6  0.014748  0.995402  0.031879      0.990230"
      ]
     },
     "execution_count": 28,
     "metadata": {},
     "output_type": "execute_result"
    }
   ],
   "source": [
    "metrics = pd.DataFrame(model.history.history)\n",
    "print(\"The model metrics are\")\n",
    "metrics"
   ]
  },
  {
   "cell_type": "markdown",
   "metadata": {
    "id": "56kO54gNpHvD",
    "papermill": {
     "duration": 0.036941,
     "end_time": "2021-05-17T14:43:48.220610",
     "exception": false,
     "start_time": "2021-05-17T14:43:48.183669",
     "status": "completed"
    },
    "tags": []
   },
   "source": [
    "##### 5.5.2 Plotting the training loss"
   ]
  },
  {
   "cell_type": "code",
   "execution_count": 29,
   "metadata": {
    "_cell_guid": "de0a1bf2-1bd7-4cb3-a63a-3b3fb85618e3",
    "_kg_hide-input": true,
    "_uuid": "6ab8f14a-faa4-446f-9fc9-afc2778ce699",
    "colab": {
     "base_uri": "https://localhost:8080/",
     "height": 430
    },
    "execution": {
     "iopub.execute_input": "2021-05-17T14:43:48.300448Z",
     "iopub.status.busy": "2021-05-17T14:43:48.299853Z",
     "iopub.status.idle": "2021-05-17T14:43:48.470434Z",
     "shell.execute_reply": "2021-05-17T14:43:48.470897Z"
    },
    "id": "NkLJ0N3ZpHvE",
    "jupyter": {
     "outputs_hidden": false
    },
    "outputId": "2f2eb6ce-6042-483d-e86d-4d09a72f5764",
    "papermill": {
     "duration": 0.213173,
     "end_time": "2021-05-17T14:43:48.471020",
     "exception": false,
     "start_time": "2021-05-17T14:43:48.257847",
     "status": "completed"
    },
    "tags": []
   },
   "outputs": [
    {
     "data": {
      "image/png": "[encoded data removed]",
      "text/plain": [
       "<Figure size 640x480 with 1 Axes>"
      ]
     },
     "metadata": {},
     "output_type": "display_data"
    }
   ],
   "source": [
    "metrics[['loss','val_loss']].plot()\n",
    "plt.show()"
   ]
  },
  {
   "cell_type": "markdown",
   "metadata": {
    "id": "t8-bKnlGpHvJ",
    "papermill": {
     "duration": 0.03882,
     "end_time": "2021-05-17T14:43:48.551449",
     "exception": false,
     "start_time": "2021-05-17T14:43:48.512629",
     "status": "completed"
    },
    "tags": []
   },
   "source": [
    "##### 5.5.3 Plotting the testing loss"
   ]
  },
  {
   "cell_type": "code",
   "execution_count": 30,
   "metadata": {
    "_cell_guid": "9209698c-13bb-4ae9-a309-79771ac5354d",
    "_kg_hide-input": true,
    "_uuid": "97d6cb1a-10ec-4849-a1b2-f0551b704b4c",
    "colab": {
     "base_uri": "https://localhost:8080/",
     "height": 430
    },
    "execution": {
     "iopub.execute_input": "2021-05-17T14:43:48.644304Z",
     "iopub.status.busy": "2021-05-17T14:43:48.639106Z",
     "iopub.status.idle": "2021-05-17T14:43:48.796985Z",
     "shell.execute_reply": "2021-05-17T14:43:48.797467Z"
    },
    "id": "ClW3CP5bpHvJ",
    "jupyter": {
     "outputs_hidden": false
    },
    "outputId": "2e1cf29d-afc4-41db-bf01-307dd2e7ce9c",
    "papermill": {
     "duration": 0.206101,
     "end_time": "2021-05-17T14:43:48.797593",
     "exception": false,
     "start_time": "2021-05-17T14:43:48.591492",
     "status": "completed"
    },
    "tags": []
   },
   "outputs": [
    {
     "data": {
      "image/png": "[encoded data removed]",
      "text/plain": [
       "<Figure size 640x480 with 1 Axes>"
      ]
     },
     "metadata": {},
     "output_type": "display_data"
    }
   ],
   "source": [
    "metrics[['accuracy','val_accuracy']].plot()\n",
    "plt.show()"
   ]
  },
  {
   "cell_type": "markdown",
   "metadata": {
    "id": "qbL4I0oBpHvL",
    "papermill": {
     "duration": 0.042469,
     "end_time": "2021-05-17T14:43:48.884010",
     "exception": false,
     "start_time": "2021-05-17T14:43:48.841541",
     "status": "completed"
    },
    "tags": []
   },
   "source": [
    "##### 5.5.4 Model evaluation"
   ]
  },
  {
   "cell_type": "code",
   "execution_count": 31,
   "metadata": {
    "_cell_guid": "716cf381-329b-499d-901b-f035117ccc13",
    "_kg_hide-input": true,
    "_uuid": "828a8b42-c224-488e-8e38-34b5d98e2ae7",
    "colab": {
     "base_uri": "https://localhost:8080/"
    },
    "execution": {
     "iopub.execute_input": "2021-05-17T14:43:48.970487Z",
     "iopub.status.busy": "2021-05-17T14:43:48.969571Z",
     "iopub.status.idle": "2021-05-17T14:43:51.929341Z",
     "shell.execute_reply": "2021-05-17T14:43:51.928885Z"
    },
    "id": "i7iLqkBIpHvM",
    "jupyter": {
     "outputs_hidden": false
    },
    "outputId": "24970bb0-7622-42ab-c5f0-61d85daf7107",
    "papermill": {
     "duration": 3.005312,
     "end_time": "2021-05-17T14:43:51.929450",
     "exception": false,
     "start_time": "2021-05-17T14:43:48.924138",
     "status": "completed"
    },
    "tags": []
   },
   "outputs": [
    {
     "data": {
      "text/plain": [
       "[0.03187889978289604, 0.9902299046516418]"
      ]
     },
     "execution_count": 31,
     "metadata": {},
     "output_type": "execute_result"
    }
   ],
   "source": [
    "model.evaluate(X_test,y_cat_test,verbose=0)"
   ]
  },
  {
   "cell_type": "markdown",
   "metadata": {
    "id": "VZhdhdVKpHvN",
    "papermill": {
     "duration": 0.039667,
     "end_time": "2021-05-17T14:43:52.010431",
     "exception": false,
     "start_time": "2021-05-17T14:43:51.970764",
     "status": "completed"
    },
    "tags": []
   },
   "source": [
    "#### 5.6 Predictions <a id=17></a>"
   ]
  },
  {
   "cell_type": "code",
   "execution_count": 33,
   "metadata": {
    "_cell_guid": "d2d154b6-4555-4fee-a172-d23850b90d99",
    "_kg_hide-input": true,
    "_uuid": "f7df04f7-8d68-4adf-9909-fb2dc722447f",
    "colab": {
     "base_uri": "https://localhost:8080/"
    },
    "execution": {
     "iopub.execute_input": "2021-05-17T14:43:52.095347Z",
     "iopub.status.busy": "2021-05-17T14:43:52.094419Z",
     "iopub.status.idle": "2021-05-17T14:43:54.290862Z",
     "shell.execute_reply": "2021-05-17T14:43:54.290432Z"
    },
    "id": "o33jrbXapHvO",
    "jupyter": {
     "outputs_hidden": false
    },
    "outputId": "b509af6f-1cf0-41eb-9c0d-0c3dfa3d9bcd",
    "papermill": {
     "duration": 2.241114,
     "end_time": "2021-05-17T14:43:54.290961",
     "exception": false,
     "start_time": "2021-05-17T14:43:52.049847",
     "status": "completed"
    },
    "tags": []
   },
   "outputs": [
    {
     "name": "stdout",
     "output_type": "stream",
     "text": [
      "544/544 [==============================] - 37s 67ms/step\n",
      "Predictions done...\n"
     ]
    }
   ],
   "source": [
    "predictions = model.predict(X_test)\n",
    "print(\"Predictions done...\")"
   ]
  },
  {
   "cell_type": "code",
   "execution_count": 42,
   "metadata": {
    "colab": {
     "base_uri": "https://localhost:8080/"
    },
    "id": "Av3IT-O3-FWv",
    "outputId": "d3055f85-fcb2-4301-c8a8-e027172e4988"
   },
   "outputs": [
    {
     "name": "stdout",
     "output_type": "stream",
     "text": [
      "1/1 [==============================] - 0s 56ms/step\n",
      "Predicted class: 2\n"
     ]
    }
   ],
   "source": [
    "import cv2\n",
    "import numpy as np\n",
    "from keras.models import load_model\n",
    "\n",
    "\n",
    "# Load and resize the image\n",
    "image_path = '/content/test1.jpg'  # Update with the path to your input image file\n",
    "image = cv2.imread(image_path)\n",
    "resized_image = cv2.resize(image, (64, 64))\n",
    "input_image = np.expand_dims(resized_image, axis=0)\n",
    "\n",
    "# Normalize the input image\n",
    "input_image = input_image.astype('float32') / 255.0\n",
    "\n",
    "# Make the prediction\n",
    "prediction = model.predict(input_image)\n",
    "\n",
    "# Get the predicted class\n",
    "predicted_class = np.argmax(prediction)\n",
    "\n",
    "print('Predicted class:', predicted_class)\n"
   ]
  },
  {
   "cell_type": "code",
   "execution_count": 45,
   "metadata": {
    "colab": {
     "base_uri": "https://localhost:8080/",
     "height": 406
    },
    "id": "3vtgChVq-3XU",
    "outputId": "87b5c076-61a7-491d-a933-7f9aa9b0dbb7"
   },
   "outputs": [
    {
     "data": {
      "image/png": "[encoded data removed]",
      "text/plain": [
       "<Figure size 640x480 with 1 Axes>"
      ]
     },
     "metadata": {},
     "output_type": "display_data"
    }
   ],
   "source": [
    "import matplotlib.pyplot as plt\n",
    "import matplotlib.image as mpimg\n",
    "\n",
    "# Specify the path to the image file\n",
    "image_path = '/content/test1.jpg'  # Update with the path to your image file\n",
    "\n",
    "# Load the image\n",
    "image = mpimg.imread(image_path)\n",
    "\n",
    "# Display the image\n",
    "plt.imshow(image)\n",
    "plt.axis('off')  # Remove the axis labels and ticks\n",
    "plt.show()\n"
   ]
  },
  {
   "cell_type": "code",
   "execution_count": 43,
   "metadata": {
    "id": "GtXz2uOA-XLD"
   },
   "outputs": [],
   "source": [
    "labels = ['A', 'B', 'C', 'D', 'E', 'F', 'G', 'H', 'I', 'J', 'K',\n",
    "           'L', 'M', 'N', 'O', 'P', 'Q', 'R', 'S', 'T', 'U', 'V',\n",
    "           'W', 'X', 'Y', 'Z', 'del', 'nothing', 'space']"
   ]
  },
  {
   "cell_type": "code",
   "execution_count": 44,
   "metadata": {
    "colab": {
     "base_uri": "https://localhost:8080/",
     "height": 36
    },
    "id": "SL2JIe_J-e2E",
    "outputId": "68caf321-ac7b-4fdf-8521-d727a6c622fa"
   },
   "outputs": [
    {
     "data": {
      "application/vnd.google.colaboratory.intrinsic+json": {
       "type": "string"
      },
      "text/plain": [
       "'C'"
      ]
     },
     "execution_count": 44,
     "metadata": {},
     "output_type": "execute_result"
    }
   ],
   "source": [
    "labels[predicted_class]"
   ]
  },
  {
   "cell_type": "code",
   "execution_count": null,
   "metadata": {
    "id": "F_ViGu8m-e7M"
   },
   "outputs": [],
   "source": []
  },
  {
   "cell_type": "code",
   "execution_count": 46,
   "metadata": {
    "colab": {
     "base_uri": "https://localhost:8080/"
    },
    "id": "ntxV6Fxz-965",
    "outputId": "821551c4-dbe3-46eb-a4fe-56bbe369e367"
   },
   "outputs": [
    {
     "name": "stdout",
     "output_type": "stream",
     "text": [
      "1/1 [==============================] - 0s 36ms/step\n",
      "Predicted class: 2\n"
     ]
    }
   ],
   "source": [
    "import cv2\n",
    "import numpy as np\n",
    "from keras.models import load_model\n",
    "\n",
    "\n",
    "# Load and resize the image\n",
    "image_path = '/content/test3.jpg'  # Update with the path to your input image file\n",
    "image = cv2.imread(image_path)\n",
    "resized_image = cv2.resize(image, (64, 64))\n",
    "input_image = np.expand_dims(resized_image, axis=0)\n",
    "\n",
    "# Normalize the input image\n",
    "input_image = input_image.astype('float32') / 255.0\n",
    "\n",
    "# Make the prediction\n",
    "prediction = model.predict(input_image)\n",
    "\n",
    "# Get the predicted class\n",
    "predicted_class = np.argmax(prediction)\n",
    "\n",
    "print('Predicted class:', predicted_class)\n"
   ]
  },
  {
   "cell_type": "code",
   "execution_count": 48,
   "metadata": {
    "colab": {
     "base_uri": "https://localhost:8080/",
     "height": 406
    },
    "id": "BqODkZ-U-966",
    "outputId": "dd1cf324-1e28-45fc-e8bd-7947429afc4a"
   },
   "outputs": [
    {
     "data": {
      "image/png": "[encoded data removed]",
      "text/plain": [
       "<Figure size 640x480 with 1 Axes>"
      ]
     },
     "metadata": {},
     "output_type": "display_data"
    }
   ],
   "source": [
    "import matplotlib.pyplot as plt\n",
    "import matplotlib.image as mpimg\n",
    "\n",
    "# Specify the path to the image file\n",
    "image_path = '/content/test3.jpg'  # Update with the path to your image file\n",
    "\n",
    "# Load the image\n",
    "image = mpimg.imread(image_path)\n",
    "\n",
    "# Display the image\n",
    "plt.imshow(image)\n",
    "plt.axis('off')  # Remove the axis labels and ticks\n",
    "plt.show()\n"
   ]
  },
  {
   "cell_type": "code",
   "execution_count": null,
   "metadata": {
    "colab": {
     "base_uri": "https://localhost:8080/",
     "height": 36
    },
    "id": "_58qOQMh-967",
    "outputId": "68caf321-ac7b-4fdf-8521-d727a6c622fa"
   },
   "outputs": [
    {
     "data": {
      "application/vnd.google.colaboratory.intrinsic+json": {
       "type": "string"
      },
      "text/plain": [
       "'C'"
      ]
     },
     "execution_count": 44,
     "metadata": {},
     "output_type": "execute_result"
    }
   ],
   "source": [
    "labels[predicted_class]"
   ]
  },
  {
   "cell_type": "code",
   "execution_count": null,
   "metadata": {
    "id": "xP8f7ESc-eYZ"
   },
   "outputs": [],
   "source": []
  },
  {
   "cell_type": "markdown",
   "metadata": {
    "_cell_guid": "3b9c82a3-3f9e-4942-ba84-4ab45a9d7c28",
    "_uuid": "3e4bb569-e8a8-46bd-b454-324c9a438472",
    "id": "F_kp_mafpHvR",
    "papermill": {
     "duration": 0.087452,
     "end_time": "2021-05-17T14:43:55.410148",
     "exception": false,
     "start_time": "2021-05-17T14:43:55.322696",
     "status": "completed"
    },
    "tags": []
   },
   "source": [
    "#### 5.7 Saving the model <a id=18></a>"
   ]
  },
  {
   "cell_type": "code",
   "execution_count": 34,
   "metadata": {
    "colab": {
     "base_uri": "https://localhost:8080/",
     "height": 17
    },
    "id": "wg6BjscRtJrD",
    "outputId": "2cd4720b-f53c-45f5-cf68-3c545f8abecd"
   },
   "outputs": [
    {
     "data": {
      "application/javascript": [
       "\n",
       "    async function download(id, filename, size) {\n",
       "      if (!google.colab.kernel.accessAllowed) {\n",
       "        return;\n",
       "      }\n",
       "      const div = document.createElement('div');\n",
       "      const label = document.createElement('label');\n",
       "      label.textContent = `Downloading \"${filename}\": `;\n",
       "      div.appendChild(label);\n",
       "      const progress = document.createElement('progress');\n",
       "      progress.max = size;\n",
       "      div.appendChild(progress);\n",
       "      document.body.appendChild(div);\n",
       "\n",
       "      const buffers = [];\n",
       "      let downloaded = 0;\n",
       "\n",
       "      const channel = await google.colab.kernel.comms.open(id);\n",
       "      // Send a message to notify the kernel that we're ready.\n",
       "      channel.send({})\n",
       "\n",
       "      for await (const message of channel.messages) {\n",
       "        // Send a message to notify the kernel that we're ready.\n",
       "        channel.send({})\n",
       "        if (message.buffers) {\n",
       "          for (const buffer of message.buffers) {\n",
       "            buffers.push(buffer);\n",
       "            downloaded += buffer.byteLength;\n",
       "            progress.value = downloaded;\n",
       "          }\n",
       "        }\n",
       "      }\n",
       "      const blob = new Blob(buffers, {type: 'application/binary'});\n",
       "      const a = document.createElement('a');\n",
       "      a.href = window.URL.createObjectURL(blob);\n",
       "      a.download = filename;\n",
       "      div.appendChild(a);\n",
       "      a.click();\n",
       "      div.remove();\n",
       "    }\n",
       "  "
      ],
      "text/plain": [
       "<IPython.core.display.Javascript object>"
      ]
     },
     "metadata": {},
     "output_type": "display_data"
    },
    {
     "data": {
      "application/javascript": [
       "download(\"download_eb122651-1f5b-46a9-8292-676a175c1faf\", \"asl_model2.h5\", 4334056)"
      ],
      "text/plain": [
       "<IPython.core.display.Javascript object>"
      ]
     },
     "metadata": {},
     "output_type": "display_data"
    }
   ],
   "source": [
    "# Code to download the model\n",
    "\n",
    "model.save('/content/asl_model2.h5')\n",
    "\n",
    "from keras.models import load_model\n",
    "from google.colab import files\n",
    "\n",
    "# Specify the path to the Keras model file\n",
    "model_file_path = '/content/asl_model2.h5'  # Update with your model file path\n",
    "\n",
    "# Load the Keras model\n",
    "model = load_model(model_file_path)\n",
    "\n",
    "# Download the model file\n",
    "files.download(model_file_path)\n"
   ]
  },
  {
   "cell_type": "code",
   "execution_count": null,
   "metadata": {
    "id": "5wGWhV1wtMdd"
   },
   "outputs": [],
   "source": []
  }
 ],
 "metadata": {
  "colab": {
   "provenance": []
  },
  "kernelspec": {
   "display_name": "Python 3 (ipykernel)",
   "language": "python",
   "name": "python3"
  },
  "language_info": {
   "codemirror_mode": {
    "name": "ipython",
    "version": 3
   },
   "file_extension": ".py",
   "mimetype": "text/x-python",
   "name": "python",
   "nbconvert_exporter": "python",
   "pygments_lexer": "ipython3",
   "version": "3.9.6"
  },
  "papermill": {
   "duration": 1036.37613,
   "end_time": "2021-05-17T14:43:56.110865",
   "environment_variables": {},
   "exception": null,
   "input_path": "__notebook__.ipynb",
   "output_path": "__notebook__.ipynb",
   "parameters": {},
   "start_time": "2021-05-17T14:26:39.734735",
   "version": "2.1.0"
  }
 },
 "nbformat": 4,
 "nbformat_minor": 1
}
